{
  "nbformat": 4,
  "nbformat_minor": 0,
  "metadata": {
    "colab": {
      "name": "Untitled1.ipynb",
      "provenance": [],
      "toc_visible": true,
      "include_colab_link": true
    },
    "kernelspec": {
      "name": "python3",
      "display_name": "Python 3"
    },
    "accelerator": "GPU"
  },
  "cells": [
    {
      "cell_type": "markdown",
      "metadata": {
        "id": "view-in-github",
        "colab_type": "text"
      },
      "source": [
        "<a href=\"https://colab.research.google.com/github/whs1111/bert-version/blob/master/src/CLASS/LSTM7.ipynb\" target=\"_parent\"><img src=\"https://colab.research.google.com/assets/colab-badge.svg\" alt=\"Open In Colab\"/></a>"
      ]
    },
    {
      "cell_type": "code",
      "metadata": {
        "id": "QMb0U7ctSDcL",
        "colab": {
          "base_uri": "https://localhost:8080/"
        },
        "outputId": "f3a505f2-6ba5-45d3-ea5f-f423512cc125"
      },
      "source": [
        "from google.colab import drive\n",
        "\n",
        "drive.mount('/content/gdrive')"
      ],
      "execution_count": 1,
      "outputs": [
        {
          "output_type": "stream",
          "text": [
            "Mounted at /content/gdrive\n"
          ],
          "name": "stdout"
        }
      ]
    },
    {
      "cell_type": "markdown",
      "metadata": {
        "id": "oS8U2HuDtZix"
      },
      "source": [
        "# 新段落"
      ]
    },
    {
      "cell_type": "code",
      "metadata": {
        "id": "orTnaAutSYb4",
        "colab": {
          "base_uri": "https://localhost:8080/"
        },
        "outputId": "373ab4db-4ff1-436e-eb5f-5ae2876dcfa5"
      },
      "source": [
        "cd gdrive/My Drive/Colab_Notebooks/code\n"
      ],
      "execution_count": null,
      "outputs": [
        {
          "output_type": "stream",
          "text": [
            "/content/gdrive/My Drive/Colab_Notebooks/code\n"
          ],
          "name": "stdout"
        }
      ]
    },
    {
      "cell_type": "code",
      "metadata": {
        "id": "-EdR4a-QwQIF",
        "colab": {
          "base_uri": "https://localhost:8080/"
        },
        "outputId": "64ac3d5a-e816-4d9c-8a51-581694c1cd3e"
      },
      "source": [
        "pip install pytorch-pretrained-bert"
      ],
      "execution_count": 2,
      "outputs": [
        {
          "output_type": "stream",
          "text": [
            "Collecting pytorch-pretrained-bert\n",
            "\u001b[?25l  Downloading https://files.pythonhosted.org/packages/d7/e0/c08d5553b89973d9a240605b9c12404bcf8227590de62bae27acbcfe076b/pytorch_pretrained_bert-0.6.2-py3-none-any.whl (123kB)\n",
            "\r\u001b[K     |██▋                             | 10kB 22.6MB/s eta 0:00:01\r\u001b[K     |█████▎                          | 20kB 28.9MB/s eta 0:00:01\r\u001b[K     |████████                        | 30kB 16.2MB/s eta 0:00:01\r\u001b[K     |██████████▋                     | 40kB 11.5MB/s eta 0:00:01\r\u001b[K     |█████████████▎                  | 51kB 7.0MB/s eta 0:00:01\r\u001b[K     |███████████████▉                | 61kB 8.1MB/s eta 0:00:01\r\u001b[K     |██████████████████▌             | 71kB 8.7MB/s eta 0:00:01\r\u001b[K     |█████████████████████▏          | 81kB 8.9MB/s eta 0:00:01\r\u001b[K     |███████████████████████▉        | 92kB 9.4MB/s eta 0:00:01\r\u001b[K     |██████████████████████████▌     | 102kB 9.5MB/s eta 0:00:01\r\u001b[K     |█████████████████████████████▏  | 112kB 9.5MB/s eta 0:00:01\r\u001b[K     |███████████████████████████████▊| 122kB 9.5MB/s eta 0:00:01\r\u001b[K     |████████████████████████████████| 133kB 9.5MB/s \n",
            "\u001b[?25hRequirement already satisfied: torch>=0.4.1 in /usr/local/lib/python3.6/dist-packages (from pytorch-pretrained-bert) (1.7.0+cu101)\n",
            "Requirement already satisfied: tqdm in /usr/local/lib/python3.6/dist-packages (from pytorch-pretrained-bert) (4.41.1)\n",
            "Requirement already satisfied: requests in /usr/local/lib/python3.6/dist-packages (from pytorch-pretrained-bert) (2.23.0)\n",
            "Requirement already satisfied: regex in /usr/local/lib/python3.6/dist-packages (from pytorch-pretrained-bert) (2019.12.20)\n",
            "Requirement already satisfied: numpy in /usr/local/lib/python3.6/dist-packages (from pytorch-pretrained-bert) (1.19.4)\n",
            "Collecting boto3\n",
            "\u001b[?25l  Downloading https://files.pythonhosted.org/packages/44/c2/c506760afd5ed0576baf297a36cab161ffaa7535dfbaae8f88bfd6aa1b94/boto3-1.16.47.tar.gz (99kB)\n",
            "\u001b[K     |████████████████████████████████| 102kB 7.8MB/s \n",
            "\u001b[?25hRequirement already satisfied: typing-extensions in /usr/local/lib/python3.6/dist-packages (from torch>=0.4.1->pytorch-pretrained-bert) (3.7.4.3)\n",
            "Requirement already satisfied: dataclasses in /usr/local/lib/python3.6/dist-packages (from torch>=0.4.1->pytorch-pretrained-bert) (0.8)\n",
            "Requirement already satisfied: future in /usr/local/lib/python3.6/dist-packages (from torch>=0.4.1->pytorch-pretrained-bert) (0.16.0)\n",
            "Requirement already satisfied: chardet<4,>=3.0.2 in /usr/local/lib/python3.6/dist-packages (from requests->pytorch-pretrained-bert) (3.0.4)\n",
            "Requirement already satisfied: idna<3,>=2.5 in /usr/local/lib/python3.6/dist-packages (from requests->pytorch-pretrained-bert) (2.10)\n",
            "Requirement already satisfied: certifi>=2017.4.17 in /usr/local/lib/python3.6/dist-packages (from requests->pytorch-pretrained-bert) (2020.12.5)\n",
            "Requirement already satisfied: urllib3!=1.25.0,!=1.25.1,<1.26,>=1.21.1 in /usr/local/lib/python3.6/dist-packages (from requests->pytorch-pretrained-bert) (1.24.3)\n",
            "Collecting botocore<1.20.0,>=1.19.47\n",
            "\u001b[?25l  Downloading https://files.pythonhosted.org/packages/8f/4a/16ffdfc33d93f02604ae9ed1ddb6369030b6f61b583f31dc84e0d0da05c1/botocore-1.19.47-py2.py3-none-any.whl (7.2MB)\n",
            "\u001b[K     |████████████████████████████████| 7.2MB 12.5MB/s \n",
            "\u001b[?25hCollecting jmespath<1.0.0,>=0.7.1\n",
            "  Downloading https://files.pythonhosted.org/packages/07/cb/5f001272b6faeb23c1c9e0acc04d48eaaf5c862c17709d20e3469c6e0139/jmespath-0.10.0-py2.py3-none-any.whl\n",
            "Collecting s3transfer<0.4.0,>=0.3.0\n",
            "\u001b[?25l  Downloading https://files.pythonhosted.org/packages/69/79/e6afb3d8b0b4e96cefbdc690f741d7dd24547ff1f94240c997a26fa908d3/s3transfer-0.3.3-py2.py3-none-any.whl (69kB)\n",
            "\u001b[K     |████████████████████████████████| 71kB 10.7MB/s \n",
            "\u001b[?25hRequirement already satisfied: python-dateutil<3.0.0,>=2.1 in /usr/local/lib/python3.6/dist-packages (from botocore<1.20.0,>=1.19.47->boto3->pytorch-pretrained-bert) (2.8.1)\n",
            "Requirement already satisfied: six>=1.5 in /usr/local/lib/python3.6/dist-packages (from python-dateutil<3.0.0,>=2.1->botocore<1.20.0,>=1.19.47->boto3->pytorch-pretrained-bert) (1.15.0)\n",
            "Building wheels for collected packages: boto3\n",
            "  Building wheel for boto3 (setup.py) ... \u001b[?25l\u001b[?25hdone\n",
            "  Created wheel for boto3: filename=boto3-1.16.47-py2.py3-none-any.whl size=128711 sha256=f7247588d7633390bdadfc046e05418010525b738818405c37612eead42a0773\n",
            "  Stored in directory: /root/.cache/pip/wheels/cc/81/49/643c45ae820b8df3dfd4b8218f4990fc6ca8eac47b281bd675\n",
            "Successfully built boto3\n",
            "\u001b[31mERROR: botocore 1.19.47 has requirement urllib3<1.27,>=1.25.4; python_version != \"3.4\", but you'll have urllib3 1.24.3 which is incompatible.\u001b[0m\n",
            "Installing collected packages: jmespath, botocore, s3transfer, boto3, pytorch-pretrained-bert\n",
            "Successfully installed boto3-1.16.47 botocore-1.19.47 jmespath-0.10.0 pytorch-pretrained-bert-0.6.2 s3transfer-0.3.3\n"
          ],
          "name": "stdout"
        }
      ]
    },
    {
      "cell_type": "code",
      "metadata": {
        "id": "o3xf12_U9-NO",
        "colab": {
          "base_uri": "https://localhost:8080/"
        },
        "outputId": "eb354b7c-f6af-4bec-b839-eadb922cb107"
      },
      "source": [
        "from pytorch_pretrained_bert import BertTokenizer,BertModel\n",
        "import torch\n",
        "bert_model = BertModel.from_pretrained(\"bert-base-uncased\").to(\"cuda\")\n",
        "bert_tokenizer = BertTokenizer.from_pretrained(\"bert-base-uncased\")\n",
        "import numpy as np\n",
        "import csv\n",
        "label_List = [\"GoodsServices\",\n",
        "        \"SearchAndRescue\",\n",
        "        \"InformationWanted\",\n",
        "        \"Volunteer\",\n",
        "        \"FundRaising\",\n",
        "        \"Donations\",\n",
        "        \"MovePeople\",\n",
        "        \"FirstPartyObservation\",\n",
        "        \"ThirdPartyObservation\",\n",
        "        \"Weather\",\n",
        "        \"EmergingThreats\",\n",
        "        \"NewSubEvent\",\n",
        "        \"MultimediaShare\",\n",
        "        \"ServiceAvailable\",\n",
        "        \"Factoid\",\n",
        "        \"Official\",\n",
        "        \"CleanUp\",\n",
        "        \"Hashtags\",\n",
        "        \"ContextualInformation\",\n",
        "        \"News\",\n",
        "        \"Advice\",\n",
        "        \"Sentiment\",\n",
        "        \"Discussion\",\n",
        "        \"Irrelevant\",\n",
        "        \"OriginalEvent\"]\n",
        "important_List = [\"Low\",\n",
        "        \"Medium\",\n",
        "        \"High\",\n",
        "        \"Critical\"]\n",
        "tweets = []\n",
        "path = '/content/gdrive/My Drive/Colab_Notebooks/code/bert-version/src/attention/data/ll.csv'\n",
        "with open(path, 'r', encoding='utf-8') as f:\n",
        "    reader = csv.reader(f)\n",
        "    for line in reader:\n",
        "        tweet_full = line\n",
        "        tweets.append({\n",
        "            'id': tweet_full[0],\n",
        "            'label':tweet_full[1],\n",
        "            'important':tweet_full[2],\n",
        "            'text': tweet_full[3].lower(),\n",
        "            # 'name': tweet_full['user']['name'].split()[0]\n",
        "            })\n",
        "tweet_list = []\n",
        "text_list = []\n",
        "imformation_list = []\n",
        "label_list = []\n",
        "# text_list = np.load('./data/Bert_text1.npy',allow_pickle=True).tolist()\n",
        "# label_list = np.load('./data/Bert_label1.npy',allow_pickle=True).tolist()\n",
        "for i in range(len(tweets)):\n",
        "        if ( i == 3000):\n",
        "          break\n",
        "        # if(i < 3000):\n",
        "        #   continue\n",
        "        # if(i== 6000):\n",
        "        #   break\n",
        "        #text_list.append(tweets[i]['text'])\n",
        "        a_tokens = bert_tokenizer.tokenize(tweets[i]['text'])\n",
        "        print(i)\n",
        "        a_seq_ids = bert_tokenizer.convert_tokens_to_ids(a_tokens)\n",
        "        batch_data = torch.Tensor(a_seq_ids).cuda().long().view((1,-1))\n",
        "        bert_model.eval()\n",
        "        out,_ = bert_model(batch_data)\n",
        "        #print(type(out[0][0]))\n",
        "        tweets_vector = [0,0,0,0,0,0,0,0,0,0,0,0,0,0,0,0,0,0,0,0,0,0,0,0,0,0,0,0,0]\n",
        "        tweets_label = eval(tweets[i]['label'])\n",
        "        tweets_important = tweets[i]['important']\n",
        "        print(tweets_important)\n",
        "        p = 0\n",
        "        for j in label_List:\n",
        "            for k in tweets_label:\n",
        "                if k == j:\n",
        "                    tweets_vector[p] = 1\n",
        "            p+=1\n",
        "        for q in important_List:\n",
        "                if tweets_important == q:\n",
        "                    tweets_vector[p] = 1\n",
        "                p+=1\n",
        "        label_list.append(tweets_vector)\n",
        "        text_list.append(out[0][0].cpu())\n"
      ],
      "execution_count": 30,
      "outputs": [
        {
          "output_type": "stream",
          "text": [
            "0\n",
            "Low\n",
            "1\n",
            "Medium\n",
            "2\n",
            "Medium\n",
            "3\n",
            "Medium\n",
            "4\n",
            "Medium\n",
            "5\n",
            "Low\n",
            "6\n",
            "Medium\n",
            "7\n",
            "Medium\n",
            "8\n",
            "Low\n",
            "9\n",
            "Medium\n",
            "10\n",
            "Medium\n",
            "11\n",
            "Medium\n",
            "12\n",
            "High\n",
            "13\n",
            "Medium\n",
            "14\n",
            "Low\n",
            "15\n",
            "Medium\n",
            "16\n",
            "High\n",
            "17\n",
            "High\n",
            "18\n",
            "Low\n",
            "19\n",
            "High\n",
            "20\n",
            "Low\n",
            "21\n",
            "Medium\n",
            "22\n",
            "Medium\n",
            "23\n",
            "Low\n",
            "24\n",
            "Medium\n",
            "25\n",
            "Low\n",
            "26\n",
            "Critical\n",
            "27\n",
            "Medium\n",
            "28\n",
            "Low\n",
            "29\n",
            "Low\n"
          ],
          "name": "stdout"
        }
      ]
    },
    {
      "cell_type": "code",
      "metadata": {
        "id": "0bFdoPwYAAjt",
        "colab": {
          "base_uri": "https://localhost:8080/"
        },
        "outputId": "fc8dc6af-247e-4fe9-8473-099e49a0634c"
      },
      "source": [
        "cd /content/gdrive/My Drive/Colab_Notebooks/code/bert-version/src/attention"
      ],
      "execution_count": 3,
      "outputs": [
        {
          "output_type": "stream",
          "text": [
            "/content/gdrive/My Drive/Colab_Notebooks/code/bert-version/src/attention\n"
          ],
          "name": "stdout"
        }
      ]
    },
    {
      "cell_type": "code",
      "metadata": {
        "id": "5nGWoU96hUfO"
      },
      "source": [
        "a = np.array(label_list)\n",
        "b = np.array(text_list)"
      ],
      "execution_count": 31,
      "outputs": []
    },
    {
      "cell_type": "code",
      "metadata": {
        "id": "IkmTEwHX__uq"
      },
      "source": [
        "np.save('./data/Bert_label1.npy',a)\n",
        "np.save('./data/Bert_text1.npy',b)"
      ],
      "execution_count": 32,
      "outputs": []
    },
    {
      "cell_type": "code",
      "metadata": {
        "id": "_rqyyXrTh2Uj",
        "colab": {
          "base_uri": "https://localhost:8080/"
        },
        "outputId": "780cdf77-43ce-41ca-efaf-0598197edb6d"
      },
      "source": [
        "c = np.load('./data/Bert_label1.npy',allow_pickle=True)\n",
        "\n",
        "print(c[12])"
      ],
      "execution_count": 41,
      "outputs": [
        {
          "output_type": "stream",
          "text": [
            "[0 0 0 0 0 0 0 0 0 0 1 0 0 0 1 0 0 0 0 0 0 0 0 0 0 0 0 1 0]\n"
          ],
          "name": "stdout"
        }
      ]
    }
  ]
}